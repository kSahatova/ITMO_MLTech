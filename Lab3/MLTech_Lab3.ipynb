{
  "nbformat": 4,
  "nbformat_minor": 0,
  "metadata": {
    "coursera": {
      "course_slug": "neural-networks-deep-learning",
      "graded_item_id": "XaIWT",
      "launcher_item_id": "zAgPl"
    },
    "kernelspec": {
      "display_name": "Python 3",
      "language": "python",
      "name": "python3"
    },
    "language_info": {
      "codemirror_mode": {
        "name": "ipython",
        "version": 3
      },
      "file_extension": ".py",
      "mimetype": "text/x-python",
      "name": "python",
      "nbconvert_exporter": "python",
      "pygments_lexer": "ipython3",
      "version": "3.7.0"
    },
    "colab": {
      "name": "MLTech_Lab3.ipynb",
      "provenance": [],
      "collapsed_sections": [],
      "include_colab_link": true
    }
  },
  "cells": [
    {
      "cell_type": "markdown",
      "metadata": {
        "id": "view-in-github",
        "colab_type": "text"
      },
      "source": [
        "<a href=\"https://colab.research.google.com/github/kSahatova/ITMO_MLTech/blob/main/Lab3/MLTech_Lab3.ipynb\" target=\"_parent\"><img src=\"https://colab.research.google.com/assets/colab-badge.svg\" alt=\"Open In Colab\"/></a>"
      ]
    },
    {
      "cell_type": "markdown",
      "metadata": {
        "id": "JRl66UzjYVlq"
      },
      "source": [
        "# Logistic Regression as a Neural Network \n",
        "(partly following deeplearning.ai lab)\n",
        "\n",
        "    - Initializing parameters\n",
        "    - Calculating the cost function and its gradient\n",
        "    - Using an optimization algorithm (gradient descent) \n"
      ]
    },
    {
      "cell_type": "code",
      "metadata": {
        "id": "Im7TBOIw68Ew"
      },
      "source": [
        "import numpy as np\n",
        "import pandas as pd\n",
        "import random\n",
        "import matplotlib.pyplot as plt\n",
        "from sklearn.model_selection import train_test_split\n",
        "import scipy\n",
        "%matplotlib inline"
      ],
      "execution_count": 1,
      "outputs": []
    },
    {
      "cell_type": "code",
      "metadata": {
        "colab": {
          "base_uri": "https://localhost:8080/"
        },
        "id": "uZb90I4o6124",
        "outputId": "9c9e877f-c2cc-4a71-e779-6e63e8728346"
      },
      "source": [
        "from google.colab import drive\r\n",
        "drive.mount('/content/drive')"
      ],
      "execution_count": 2,
      "outputs": [
        {
          "output_type": "stream",
          "text": [
            "Mounted at /content/drive\n"
          ],
          "name": "stdout"
        }
      ]
    },
    {
      "cell_type": "code",
      "metadata": {
        "id": "YHmT7yPL7zvg"
      },
      "source": [
        "data = pd.read_csv('/content/drive/MyDrive/bioresponse.csv')\r\n",
        "features = data.iloc[:,1:]\r\n",
        "labels = data.iloc[:,0]"
      ],
      "execution_count": 3,
      "outputs": []
    },
    {
      "cell_type": "code",
      "metadata": {
        "id": "bGkwkHS3Ae68"
      },
      "source": [
        "X_train, X_test, y_train, y_test = train_test_split(features, labels, test_size=0.25, random_state=9)"
      ],
      "execution_count": 4,
      "outputs": []
    },
    {
      "cell_type": "code",
      "metadata": {
        "id": "XsOwaOMPC2dX"
      },
      "source": [
        "X_train = np.asarray(X_train).T\r\n",
        "X_test = np.asarray(X_test).T\r\n",
        "y_train = np.asarray(y_train).reshape(1, -1)\r\n",
        "y_test = np.asarray(y_test).reshape(1, -1)"
      ],
      "execution_count": 5,
      "outputs": []
    },
    {
      "cell_type": "code",
      "metadata": {
        "colab": {
          "base_uri": "https://localhost:8080/"
        },
        "id": "alqERFFgGU6l",
        "outputId": "b553067b-eff2-4dad-9153-f97195a72062"
      },
      "source": [
        "print('Shape of train set features: ', X_train.shape)\r\n",
        "print('Shape of test set features: ', X_test.shape)\r\n",
        "print('Shape of train set labels: ', y_train.shape)\r\n",
        "print('Shape of test set labels: ', y_test.shape)"
      ],
      "execution_count": 6,
      "outputs": [
        {
          "output_type": "stream",
          "text": [
            "Shape of train set features:  (1776, 2813)\n",
            "Shape of test set features:  (1776, 938)\n",
            "Shape of train set labels:  (1, 2813)\n",
            "Shape of test set labels:  (1, 938)\n"
          ],
          "name": "stdout"
        }
      ]
    },
    {
      "cell_type": "markdown",
      "metadata": {
        "id": "BixMxtmYYVlw"
      },
      "source": [
        "## General Architecture of the algorithm ##\n",
        "\n",
        "\n",
        "Build a Logistic Regression, using a Neural Network mindset.\n",
        "\n",
        "**Logistic Regression is actually a very simple Neural Network!**\n",
        "\n",
        "\n",
        "**Mathematical expression of the algorithm**:\n",
        "\n",
        "For one example $x^{(i)}$:\n",
        "$$z^{(i)} = w^T x^{(i)} + b \\tag{1}$$\n",
        "$$\\hat{y}^{(i)} = a^{(i)} = sigmoid(z^{(i)})\\tag{2}$$ \n",
        "$$ \\mathcal{L}(a^{(i)}, y^{(i)}) =  - y^{(i)}  \\log(a^{(i)}) - (1-y^{(i)} )  \\log(1-a^{(i)})\\tag{3}$$\n",
        "\n",
        "The cost is then computed by summing over all training examples:\n",
        "$$ J = \\frac{1}{m} \\sum_{i=1}^m \\mathcal{L}(a^{(i)}, y^{(i)})$$\n",
        "\n",
        "**Key steps**:\n",
        "    - Initialize the parameters of the model\n",
        "    - Learn the parameters for the model by minimizing the cost  \n",
        "    - Use the learned parameters to make predictions (on the test set)\n",
        "    - Analyse the results and conclude"
      ]
    },
    {
      "cell_type": "markdown",
      "metadata": {
        "id": "1rFmqFwQYVlw"
      },
      "source": [
        "## Parts of our algorithm ## \n",
        "\n",
        "The main steps for building a Neural Network are:\n",
        "1. Define the model structure (such as number of input features, number of layers, number of neurons in the layer etc.) \n",
        "2. Initialize the model's parameters\n",
        "3. Loop:\n",
        "    - Calculate current loss (forward propagation)\n",
        "    - Calculate current gradient (backward propagation)\n",
        "    - Update parameters (gradient descent)\n",
        "\n",
        "Build 1-3 separately and integrate them into one function we call `model()`.\n",
        "\n",
        "### Sigmoid\n",
        "\n",
        "$sigmoid( w^T x + b) = \\frac{1}{1 + e^{-(w^T x + b)}}$ "
      ]
    },
    {
      "cell_type": "code",
      "metadata": {
        "id": "q16NvSTkYVlx"
      },
      "source": [
        "# sigmoid\n",
        "\n",
        "def sigmoid(z):\n",
        "    \"\"\"\n",
        "    Compute the sigmoid of z\n",
        "\n",
        "    Arguments:\n",
        "    z -- A scalar or numpy array of any size.\n",
        "\n",
        "    Return:\n",
        "    s -- sigmoid(z)\n",
        "    \"\"\"\n",
        "    s = 1./(1.+np.exp(-z))\n",
        "    \n",
        "    return s"
      ],
      "execution_count": 7,
      "outputs": []
    },
    {
      "cell_type": "markdown",
      "metadata": {
        "id": "bpd0wqL7YVlx"
      },
      "source": [
        "### Initializing parameters\n",
        "\n"
      ]
    },
    {
      "cell_type": "code",
      "metadata": {
        "id": "nC_xYzTEYVly"
      },
      "source": [
        "# initialize_with_zeros\n",
        "\n",
        "def initialize_with_zeros(dim):\n",
        "    \"\"\"\n",
        "    This function creates a vector of zeros of shape (dim, 1) for w and initializes b to 0.\n",
        "    \n",
        "    Argument:\n",
        "    dim -- size of the w vector we want (or number of parameters in this case)\n",
        "    \n",
        "    Returns:\n",
        "    w -- initialized vector of shape (dim, 1)\n",
        "    b -- initialized scalar (corresponds to the bias)\n",
        "    \"\"\"\n",
        "    w = np.zeros((dim,1))\n",
        "    b = 0.\n",
        "    \n",
        "    return w, b"
      ],
      "execution_count": 8,
      "outputs": []
    },
    {
      "cell_type": "markdown",
      "metadata": {
        "id": "K8qHMDabYVly"
      },
      "source": [
        "### Forward and Backward propagation\n",
        "\n",
        "Implement a function `propagate()` that computes the cost function and its gradient.\n",
        "\n",
        "Forward Propagation:\n",
        "- You get X\n",
        "- You compute $A = \\sigma(w^T X + b) = (a^{(1)}, a^{(2)}, ..., a^{(m-1)}, a^{(m)})$\n",
        "- You calculate the cost function: $J = -\\frac{1}{m}\\sum_{i=1}^{m}y^{(i)}\\log(a^{(i)})+(1-y^{(i)})\\log(1-a^{(i)})$\n",
        "\n",
        "Here are the two formulas we should use: \n",
        "\n",
        "$$ \\frac{\\partial J}{\\partial w} = \\frac{1}{m}X(A-Y)^T$$\n",
        "$$ \\frac{\\partial J}{\\partial b} = \\frac{1}{m} \\sum_{i=1}^m (a^{(i)}-y^{(i)})$$"
      ]
    },
    {
      "cell_type": "code",
      "metadata": {
        "id": "RzhXWVi1YVlz"
      },
      "source": [
        "# propagate\n",
        "\n",
        "def propagate(w, b, X, Y):\n",
        "    \"\"\"\n",
        "    Implement the cost function and its gradient for the propagation explained above\n",
        "\n",
        "    Arguments:\n",
        "    w -- weights, a numpy array of size which equals the number of features\n",
        "    b -- bias, a scalar\n",
        "    X -- data \n",
        "    Y -- true \"label\" vector (containing 0 and 1) of size (1, number of examples)\n",
        "\n",
        "    Return:\n",
        "    cost -- negative log-likelihood cost for logistic regression\n",
        "    dw -- gradient of the loss with respect to w, thus same shape as w\n",
        "    db -- gradient of the loss with respect to b, thus same shape as b\n",
        "    \n",
        "    \"\"\"\n",
        "   \n",
        "    m = X.shape[1]\n",
        "\n",
        "  \n",
        "    # FORWARD PROPAGATION (FROM X TO COST)\n",
        "    A = sigmoid(np.dot(w.T,X)+b)                                # compute activation\n",
        "    cost = -(1./m)*np.sum(Y*np.log(A)+(1-Y)*np.log(1-A),axis=1) # compute cost   \n",
        "\n",
        "\n",
        "    # BACKWARD PROPAGATION (TO FIND GRAD) \n",
        "    \n",
        "    dw = (1./m)*np.dot(X,(A-Y).T)\n",
        "    db = (1./m)*np.sum(A-Y)\n",
        "    \n",
        "\n",
        "    grads = {\"dw\": dw,\n",
        "             \"db\": db}\n",
        "    \n",
        "    return grads, cost"
      ],
      "execution_count": 30,
      "outputs": []
    },
    {
      "cell_type": "markdown",
      "metadata": {
        "id": "5Rjc-2wuYVlz"
      },
      "source": [
        "### Optimization\n",
        "- We have initialized the parameters.\n",
        "- We are able to compute a cost function and its gradient.\n",
        "- Now, we have to update the parameters using gradient descent.\n",
        "\n",
        "For a parameter $\\theta$, the update rule is $ \\theta = \\theta - \\alpha \\text{ } d\\theta$, where $\\alpha$ is the learning rate."
      ]
    },
    {
      "cell_type": "code",
      "metadata": {
        "id": "zI5mo-6fYVl0"
      },
      "source": [
        "# optimize\n",
        "\n",
        "def optimize(w, b, X, Y, num_iterations, learning_rate,optimizer, print_cost = False):\n",
        "    \"\"\"\n",
        "    This function optimizes w and b by running a gradient descent algorithm\n",
        "    \n",
        "    Arguments:\n",
        "    w -- weights, a numpy array \n",
        "    b -- bias, a scalar\n",
        "    X -- data \n",
        "    Y -- true \"label\" vector (containing 0 and 1), of shape (1, number of examples)\n",
        "    num_iterations -- number of iterations of the optimization loop\n",
        "    learning_rate -- learning rate of the gradient descent update rule\n",
        "    print_cost -- True to print the loss every 100 steps\n",
        "    \n",
        "    Returns:\n",
        "    params -- dictionary containing the weights w and bias b\n",
        "    grads -- dictionary containing the gradients of the weights and bias with respect to the cost function\n",
        "    costs -- list of all the costs computed during the optimization, this will be used to plot the learning curve.\n",
        "    \n",
        "    \"\"\"\n",
        "    \n",
        "    costs = []\n",
        "    b1 = 0.9\n",
        "    b2 = 0.999\n",
        "    epsilon = 1e-8\n",
        "    m_w = 0\n",
        "    m_b = 0\n",
        "    v_w = 0\n",
        "    v_b = 0\n",
        "    \n",
        "    for i in range(num_iterations):\n",
        "        \n",
        "        if optimizer == 'SGD':\n",
        "          m = X.shape[1]\n",
        "          sample_num = random.randint(0, m-1) \n",
        "          X_ = X[:, sample_num].reshape(-1, 1)\n",
        "          Y_ = Y[:, sample_num].reshape(-1, 1)      \n",
        "          grads, cost = propagate(w,b,X_,Y_)\n",
        "        \n",
        "        elif optimizer == 'Adam':\n",
        "          m = X.shape[1]\n",
        "                    \n",
        "          # Compute gradients\n",
        "          grads, cost = propagate(w, b, X, Y)\n",
        "\n",
        "          dw = grads['dw']\n",
        "          db = grads['db']\n",
        "\n",
        "          # Update rule for w\n",
        "          m_w = b1 * m_w + (1 - b1) * dw\n",
        "          v_w = b2 * v_w + (1 - b2) * (dw**2)\n",
        "          \n",
        "          m_wc = m_w/(1 - b1**(i+1))\n",
        "          v_wc = v_w/(1 - b2**(i+1))          \n",
        "          \n",
        "          w = w - learning_rate * (m_wc/(v_wc**(1/2) + epsilon))\n",
        "\n",
        "          # Update rule for b\n",
        "          m_b = b1 * m_b + (1 - b1) * db\n",
        "          v_b = b2 * v_b + (1 - b2) * (db**2)\n",
        "          \n",
        "          m_bc = m_b/(1 - b1**(i+1))\n",
        "          v_bc = v_b/(1 - b2**(i+1))\n",
        "          \n",
        "          b = b - learning_rate * (m_bc/(v_bc**(1/2) + epsilon))\n",
        "\n",
        "        else:\n",
        "        # Cost and gradient calculation \n",
        "          grads, cost = propagate(w,b,X,Y)\n",
        "        \n",
        "        # Retrieve derivatives from grads\n",
        "        dw = grads[\"dw\"]\n",
        "        db = grads[\"db\"]\n",
        "        \n",
        "        # update rule\n",
        "        w -=learning_rate*dw\n",
        "        b -=learning_rate*db\n",
        "        \n",
        "        # Record the costs\n",
        "        if i % 100 == 0:\n",
        "            costs.append(cost)\n",
        "        \n",
        "        # Print the cost every 100 training iterations\n",
        "        if print_cost and i % 100 == 0:\n",
        "            print (\"Cost after iteration %i: %f\" %(i, cost))\n",
        "    \n",
        "    params = {\"w\": w,\n",
        "              \"b\": b}\n",
        "    \n",
        "    grads = {\"dw\": dw,\n",
        "             \"db\": db}\n",
        "    \n",
        "    return params, grads, costs"
      ],
      "execution_count": 71,
      "outputs": []
    },
    {
      "cell_type": "markdown",
      "metadata": {
        "id": "WveKLLR6YVl1"
      },
      "source": [
        "Implement the `predict()` function. There are two steps to compute predictions:\n",
        "\n",
        "1. Calculate $\\hat{Y} = A = \\sigma(w^T X + b)$\n",
        "\n",
        "2. Convert the entries of A into 0 (if activation <= 0.5) or 1 (if activation > 0.5), store the predictions in a vector `Y_prediction`. "
      ]
    },
    {
      "cell_type": "code",
      "metadata": {
        "id": "Q6p8pd8pYVl1"
      },
      "source": [
        "# predict\n",
        "\n",
        "def predict(w, b, X):\n",
        "    '''\n",
        "    Predict whether the label is 0 or 1 using learned logistic regression parameters (w, b)\n",
        "    \n",
        "    Arguments:\n",
        "    w -- weights, a numpy array \n",
        "    b -- bias, a scalar\n",
        "    X -- data \n",
        "    \n",
        "    Returns:\n",
        "    Y_prediction -- a numpy array (vector) containing all predictions (0/1) for the examples in X\n",
        "    '''\n",
        "    \n",
        "    m = X.shape[1]\n",
        "    Y_prediction = np.zeros((1,m))\n",
        "    w = w.reshape(X.shape[0], 1)\n",
        "    \n",
        "    \n",
        "    # Compute vector \"A\" predicting the probabilities \n",
        "    \n",
        "    A = sigmoid(np.dot(w.T,X)+b)\n",
        "    \n",
        "    for i in range(A.shape[1]):\n",
        "        \n",
        "        # Convert probabilities A[0,i] to actual predictions p[0,i]\n",
        "        if (A[0,i]<=0.5):\n",
        "            Y_prediction[0][i]=0\n",
        "        else:\n",
        "            Y_prediction[0][i]=1\n",
        "    \n",
        "    return Y_prediction"
      ],
      "execution_count": 35,
      "outputs": []
    },
    {
      "cell_type": "code",
      "metadata": {
        "id": "IeFbe51nYVl2"
      },
      "source": [
        "print (\"predictions = \" + str(predict(params['w'], params['b'], X_test)))"
      ],
      "execution_count": null,
      "outputs": []
    },
    {
      "cell_type": "markdown",
      "metadata": {
        "collapsed": true,
        "id": "IzJOsYM2YVl2"
      },
      "source": [
        "\n",
        "Already have:\n",
        "- Initialize (w,b)\n",
        "- Optimize the loss iteratively to learn parameters (w,b):\n",
        "    - computing the cost and its gradient \n",
        "    - updating the parameters using gradient descent\n",
        "- Use the learned (w,b) to predict the labels for a given set of examples"
      ]
    },
    {
      "cell_type": "markdown",
      "metadata": {
        "id": "gIHsdqPgYVl2"
      },
      "source": [
        "## Merge it all into a model ##\n",
        "\n",
        "    - Y_prediction_test for the predictions on the test set\n",
        "    - Y_prediction_train for the predictions on the train set\n",
        "    - w, costs, grads for the outputs of optimize()"
      ]
    },
    {
      "cell_type": "code",
      "metadata": {
        "id": "TMVbePtZYVl2"
      },
      "source": [
        "# model\n",
        "\n",
        "def model(X_train, Y_train, X_test, Y_test, optimizer, num_iterations = 2000, learning_rate = 0.5, print_cost = False):\n",
        "    \"\"\"\n",
        "    Builds the logistic regression model by calling the function we've implemented previously\n",
        "    \n",
        "    Arguments:\n",
        "    X_train -- training set represented by a numpy array \n",
        "    Y_train -- training labels represented by a numpy array (vector) of shape (1, m_train)\n",
        "    X_test -- test set represented by a numpy array \n",
        "    Y_test -- test labels represented by a numpy array (vector) of shape (1, m_test)\n",
        "    num_iterations -- hyperparameter representing the number of iterations to optimize the parameters\n",
        "    learning_rate -- hyperparameter representing the learning rate used in the update rule of optimize()\n",
        "    print_cost -- Set to true to print the cost every 100 iterations\n",
        "    \n",
        "    Returns:\n",
        "    d -- dictionary containing information about the model.\n",
        "    \"\"\"\n",
        "    \n",
        "    # initialize parameters with zeros \n",
        "    w, b = initialize_with_zeros(X_train.shape[0])\n",
        "\n",
        "    # Gradient descent\n",
        "    parameters, grads, costs = optimize(w, b, X_train, Y_train, num_iterations, learning_rate, optimizer, print_cost)\n",
        "    \n",
        "    # Retrieve parameters w and b from dictionary \"parameters\"\n",
        "    w = parameters[\"w\"]\n",
        "    b = parameters[\"b\"]\n",
        "    \n",
        "    # Predict test/train set examples\n",
        "    Y_prediction_test = predict(w, b, X_test)\n",
        "    Y_prediction_train = predict(w, b, X_train)\n",
        "    \n",
        "\n",
        "    # Print train/test Errors\n",
        "    print(\"train accuracy: {} %\".format(100 - np.mean(np.abs(Y_prediction_train - Y_train)) * 100))\n",
        "    print(\"test accuracy: {} %\".format(100 - np.mean(np.abs(Y_prediction_test - Y_test)) * 100))\n",
        "\n",
        "    d = {\"costs\": costs,\n",
        "         \"Y_prediction_test\": Y_prediction_test, \n",
        "         \"Y_prediction_train\" : Y_prediction_train, \n",
        "         \"w\" : w, \n",
        "         \"b\" : b,\n",
        "         \"learning_rate\" : learning_rate,\n",
        "         \"num_iterations\": num_iterations}\n",
        "    \n",
        "    return d"
      ],
      "execution_count": 12,
      "outputs": []
    },
    {
      "cell_type": "code",
      "metadata": {
        "id": "x2S5YsBsbc25"
      },
      "source": [
        "def plot_learning_curve(costs, num_iterations, label='GD'):\r\n",
        "  x = [i for i in range(1, num_iterations+1) if i%100 == 0]\r\n",
        "  plt.figure(figsize=(5, 5))\r\n",
        "  plt.plot(x, costs, label=label)\r\n",
        "  plt.xlabel('Number of iterations')\r\n",
        "  plt.ylabel('Loss')\r\n",
        "  plt.grid()\r\n",
        "  plt.legend()\r\n",
        "  plt.show()"
      ],
      "execution_count": 56,
      "outputs": []
    },
    {
      "cell_type": "markdown",
      "metadata": {
        "id": "4EqWsQ0Ifou7"
      },
      "source": [
        "## Gradient Descent"
      ]
    },
    {
      "cell_type": "code",
      "metadata": {
        "id": "dz55zNblYVl4"
      },
      "source": [
        "learn_rates = [0.001, 0.005, 0.01, 0.05, 0.1]\r\n",
        "models_gd = []\r\n",
        "models_sgd = []"
      ],
      "execution_count": 13,
      "outputs": []
    },
    {
      "cell_type": "code",
      "metadata": {
        "id": "H7XJ5lvSC5VU",
        "colab": {
          "base_uri": "https://localhost:8080/"
        },
        "outputId": "f9b20441-89c1-4611-e275-d538361a3a3b"
      },
      "source": [
        "for learn_rate in learn_rates:\r\n",
        "  print(f'\\nModel optimized with GD with learning rate = {learn_rate}')\r\n",
        "  output_gd = model(X_train, y_train, X_test, y_test, optimizer='GD', num_iterations=2000, learning_rate=learn_rate, print_cost=False)\r\n",
        "  models_gd.append(output_gd)"
      ],
      "execution_count": 36,
      "outputs": [
        {
          "output_type": "stream",
          "text": [
            "\n",
            "Model optimized with GD with learning rate = 0.001\n",
            "train accuracy: 72.48489157483114 %\n",
            "test accuracy: 68.44349680170575 %\n",
            "\n",
            "Model optimized with GD with learning rate = 0.005\n",
            "train accuracy: 77.92392463562034 %\n",
            "test accuracy: 74.30703624733476 %\n",
            "\n",
            "Model optimized with GD with learning rate = 0.01\n",
            "train accuracy: 79.16814788482047 %\n",
            "test accuracy: 74.84008528784648 %\n",
            "\n",
            "Model optimized with GD with learning rate = 0.05\n",
            "train accuracy: 82.50977603981514 %\n",
            "test accuracy: 75.26652452025587 %\n",
            "\n",
            "Model optimized with GD with learning rate = 0.1\n",
            "train accuracy: 83.96729470316389 %\n",
            "test accuracy: 74.94669509594883 %\n"
          ],
          "name": "stdout"
        }
      ]
    },
    {
      "cell_type": "markdown",
      "metadata": {
        "id": "rtS4X5Yu8koc"
      },
      "source": [
        "Increment of the lerning rate for model optimization with gradient descent leads to the growth of the accuracy on the training and test sets."
      ]
    },
    {
      "cell_type": "code",
      "metadata": {
        "colab": {
          "base_uri": "https://localhost:8080/",
          "height": 334
        },
        "id": "ShHhNZO48KYc",
        "outputId": "f971e1a7-18d0-47a3-b332-acdf70fd52af"
      },
      "source": [
        "plot_learning_curve(models_gd[4]['costs'],2000)"
      ],
      "execution_count": 57,
      "outputs": [
        {
          "output_type": "display_data",
          "data": {
            "image/png": "[encoded data removed]",
            "text/plain": [
              "<Figure size 360x360 with 1 Axes>"
            ]
          },
          "metadata": {
            "tags": [],
            "needs_background": "light"
          }
        }
      ]
    },
    {
      "cell_type": "markdown",
      "metadata": {
        "id": "ZuB-ksM2fXJY"
      },
      "source": [
        "## Stochastic Gradient Descent"
      ]
    },
    {
      "cell_type": "code",
      "metadata": {
        "colab": {
          "base_uri": "https://localhost:8080/"
        },
        "id": "Gzy7Uc1iaOnd",
        "outputId": "3985fb3d-8a62-46ce-b342-f38f686d8e01"
      },
      "source": [
        "for learn_rate in learn_rates:\r\n",
        "  print(f'\\nModel optimized with SGD with learning rate = {learn_rate}')\r\n",
        "  output_sgd = model(X_train, y_train, X_test, y_test, optimizer='SGD', num_iterations=2000, learning_rate=learn_rate, print_cost=False)\r\n",
        "  models_sgd.append(output_sgd)"
      ],
      "execution_count": 42,
      "outputs": [
        {
          "output_type": "stream",
          "text": [
            "\n",
            "Model optimized with SGD with learning rate = 0.001\n",
            "train accuracy: 69.32100959829364 %\n",
            "test accuracy: 65.77825159914713 %\n",
            "\n",
            "Model optimized with SGD with learning rate = 0.005\n",
            "train accuracy: 76.57305367934589 %\n",
            "test accuracy: 72.38805970149254 %\n",
            "\n",
            "Model optimized with SGD with learning rate = 0.01\n",
            "train accuracy: 75.7198720227515 %\n",
            "test accuracy: 71.64179104477611 %\n",
            "\n",
            "Model optimized with SGD with learning rate = 0.05\n",
            "train accuracy: 75.54212584429435 %\n",
            "test accuracy: 69.7228144989339 %\n",
            "\n",
            "Model optimized with SGD with learning rate = 0.1\n",
            "train accuracy: 71.41841450408816 %\n",
            "test accuracy: 66.63113006396588 %\n"
          ],
          "name": "stdout"
        }
      ]
    },
    {
      "cell_type": "markdown",
      "metadata": {
        "id": "3WXvmuIL94yW"
      },
      "source": [
        "Unlike the optimization with GD, stochastic gradient descent gets its optimal accuracy with a learning rate equals 0.005."
      ]
    },
    {
      "cell_type": "code",
      "metadata": {
        "id": "nPz9ahybbgPx",
        "colab": {
          "base_uri": "https://localhost:8080/",
          "height": 334
        },
        "outputId": "1c137315-bbf5-421f-d873-f554af465f19"
      },
      "source": [
        "plot_learning_curve(models_sgd[1]['costs'], 2000, label='SGD')"
      ],
      "execution_count": 58,
      "outputs": [
        {
          "output_type": "display_data",
          "data": {
            "image/png": "[encoded data removed]",
            "text/plain": [
              "<Figure size 360x360 with 1 Axes>"
            ]
          },
          "metadata": {
            "tags": [],
            "needs_background": "light"
          }
        }
      ]
    },
    {
      "cell_type": "markdown",
      "metadata": {
        "id": "lkYHqrmyfiAs"
      },
      "source": [
        "## Adam optimizer"
      ]
    },
    {
      "cell_type": "code",
      "metadata": {
        "colab": {
          "base_uri": "https://localhost:8080/"
        },
        "id": "ZhEGqb1y7qrq",
        "outputId": "90163c52-fd7e-42b0-c724-cdfd589458d0"
      },
      "source": [
        "print(f'\\nModel optimized with ADAM with learning rate = {0.001}')\r\n",
        "model_adam = model(X_train, y_train, X_test, y_test, optimizer='Adam', num_iterations=2000, learning_rate=0.001, print_cost=False)"
      ],
      "execution_count": 74,
      "outputs": [
        {
          "output_type": "stream",
          "text": [
            "\n",
            "Model optimized with ADAM with learning rate = 0.001\n",
            "train accuracy: 89.79736935655883 %\n",
            "test accuracy: 75.15991471215352 %\n"
          ],
          "name": "stdout"
        }
      ]
    },
    {
      "cell_type": "code",
      "metadata": {
        "colab": {
          "base_uri": "https://localhost:8080/",
          "height": 334
        },
        "id": "qrWZGQdsWq7u",
        "outputId": "27f9e9a4-220a-4fd3-8a3d-19e75cb72b00"
      },
      "source": [
        "plot_learning_curve(model_adam['costs'], 2000, label='Adam')"
      ],
      "execution_count": 73,
      "outputs": [
        {
          "output_type": "display_data",
          "data": {
            "image/png": "[encoded data removed]",
            "text/plain": [
              "<Figure size 360x360 with 1 Axes>"
            ]
          },
          "metadata": {
            "tags": [],
            "needs_background": "light"
          }
        }
      ]
    },
    {
      "cell_type": "markdown",
      "metadata": {
        "id": "aiVynZRoeWx0"
      },
      "source": [
        "Implementation of the Adam optimizer helped to reach the best accuracy on the training and test sets using first and second moments."
      ]
    },
    {
      "cell_type": "markdown",
      "metadata": {
        "id": "v42GrLJIYVl3"
      },
      "source": [
        "Bibliography:\n",
        "- http://www.wildml.com/2015/09/implementing-a-neural-network-from-scratch/\n"
      ]
    }
  ]
}